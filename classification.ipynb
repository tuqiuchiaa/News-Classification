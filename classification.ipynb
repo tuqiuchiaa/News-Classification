{
 "cells": [
  {
   "cell_type": "code",
   "execution_count": 84,
   "source": [
    "import numpy as np\r\n",
    "\r\n",
    "import pandas as pd\r\n",
    "import time\r\n",
    "import matplotlib.pyplot as plt\r\n",
    "import re, string, timeit\r\n",
    "from nltk.tag.stanford import StanfordNERTagger\r\n",
    "import pickle\r\n",
    "from nltk.stem import WordNetLemmatizer\r\n",
    "from nltk import word_tokenize\r\n",
    "from nltk.corpus import stopwords\r\n",
    "import nltk\r\n",
    "from scipy.sparse import hstack\r\n",
    "pd.set_option('mode.chained_assignment',None)"
   ],
   "outputs": [],
   "metadata": {}
  },
  {
   "cell_type": "code",
   "execution_count": 85,
   "source": [
    "from sklearn.feature_extraction.text import CountVectorizer,TfidfVectorizer\r\n",
    "from sklearn.model_selection import train_test_split\r\n",
    "from sklearn.preprocessing import LabelEncoder\r\n",
    "from sklearn.linear_model import SGDClassifier, LogisticRegression\r\n",
    "from sklearn.svm import LinearSVC\r\n",
    "from textblob import TextBlob"
   ],
   "outputs": [],
   "metadata": {}
  },
  {
   "cell_type": "code",
   "execution_count": 86,
   "source": [
    "df = pd.read_pickle('data/final_Processed_df.pkl')"
   ],
   "outputs": [],
   "metadata": {}
  },
  {
   "cell_type": "code",
   "execution_count": 87,
   "source": [
    "df.head()"
   ],
   "outputs": [
    {
     "output_type": "execute_result",
     "data": {
      "text/plain": [
       "           authors       date  \\\n",
       "0  Melissa Jeltsen 2018-05-26   \n",
       "1    Andy McDonald 2018-05-26   \n",
       "2       Ron Dicker 2018-05-26   \n",
       "3       Ron Dicker 2018-05-26   \n",
       "4       Ron Dicker 2018-05-26   \n",
       "\n",
       "                                            headline  \\\n",
       "0  There Were 2 Mass Shootings In Texas Last Week...   \n",
       "1  Will Smith Joins Diplo And Nicky Jam For The 2...   \n",
       "2    Hugh Grant Marries For The First Time At Age 57   \n",
       "3  Jim Carrey Blasts 'Castrato' Adam Schiff And D...   \n",
       "4  Julianna Margulies Uses Donald Trump Poop Bags...   \n",
       "\n",
       "                                                link  \\\n",
       "0  https://www.huffingtonpost.com/entry/texas-ama...   \n",
       "1  https://www.huffingtonpost.com/entry/will-smit...   \n",
       "2  https://www.huffingtonpost.com/entry/hugh-gran...   \n",
       "3  https://www.huffingtonpost.com/entry/jim-carre...   \n",
       "4  https://www.huffingtonpost.com/entry/julianna-...   \n",
       "\n",
       "                                   short_description  \\\n",
       "0  She left her husband. He killed their children...   \n",
       "1                           Of course it has a song.   \n",
       "2  The actor and his longtime girlfriend Anna Ebe...   \n",
       "3  The actor gives Dems an ass-kicking for not fi...   \n",
       "4  The \"Dietland\" actress said using the bags is ...   \n",
       "\n",
       "                                             NERtext  \\\n",
       "0  There Were CARDINAL Mass Shootings In GPE DATE...   \n",
       "1  Will Smith Joins Diplo And PERSON For WORK_OF_...   \n",
       "2  PERSON For The ORDINAL Time At DATE The actor ...   \n",
       "3  PERSON Blasts GPE PERSON And NORP In New Artwo...   \n",
       "4  PERSON Uses PERSON Poop Bags To Pick Up After ...   \n",
       "\n",
       "                                                text       category  \n",
       "0  There Were 2 Mass Shootings In Texas Last Week...          CRIME  \n",
       "1  Will Smith Joins Diplo And Nicky Jam For The 2...  ENTERTAINMENT  \n",
       "2  Hugh Grant Marries For The First Time At Age 5...  ENTERTAINMENT  \n",
       "3  Jim Carrey Blasts Castrato Adam Schiff And Dem...  ENTERTAINMENT  \n",
       "4  Julianna Margulies Uses Donald Trump Poop Bags...  ENTERTAINMENT  "
      ],
      "text/html": [
       "<div>\n",
       "<style scoped>\n",
       "    .dataframe tbody tr th:only-of-type {\n",
       "        vertical-align: middle;\n",
       "    }\n",
       "\n",
       "    .dataframe tbody tr th {\n",
       "        vertical-align: top;\n",
       "    }\n",
       "\n",
       "    .dataframe thead th {\n",
       "        text-align: right;\n",
       "    }\n",
       "</style>\n",
       "<table border=\"1\" class=\"dataframe\">\n",
       "  <thead>\n",
       "    <tr style=\"text-align: right;\">\n",
       "      <th></th>\n",
       "      <th>authors</th>\n",
       "      <th>date</th>\n",
       "      <th>headline</th>\n",
       "      <th>link</th>\n",
       "      <th>short_description</th>\n",
       "      <th>NERtext</th>\n",
       "      <th>text</th>\n",
       "      <th>category</th>\n",
       "    </tr>\n",
       "  </thead>\n",
       "  <tbody>\n",
       "    <tr>\n",
       "      <th>0</th>\n",
       "      <td>Melissa Jeltsen</td>\n",
       "      <td>2018-05-26</td>\n",
       "      <td>There Were 2 Mass Shootings In Texas Last Week...</td>\n",
       "      <td>https://www.huffingtonpost.com/entry/texas-ama...</td>\n",
       "      <td>She left her husband. He killed their children...</td>\n",
       "      <td>There Were CARDINAL Mass Shootings In GPE DATE...</td>\n",
       "      <td>There Were 2 Mass Shootings In Texas Last Week...</td>\n",
       "      <td>CRIME</td>\n",
       "    </tr>\n",
       "    <tr>\n",
       "      <th>1</th>\n",
       "      <td>Andy McDonald</td>\n",
       "      <td>2018-05-26</td>\n",
       "      <td>Will Smith Joins Diplo And Nicky Jam For The 2...</td>\n",
       "      <td>https://www.huffingtonpost.com/entry/will-smit...</td>\n",
       "      <td>Of course it has a song.</td>\n",
       "      <td>Will Smith Joins Diplo And PERSON For WORK_OF_...</td>\n",
       "      <td>Will Smith Joins Diplo And Nicky Jam For The 2...</td>\n",
       "      <td>ENTERTAINMENT</td>\n",
       "    </tr>\n",
       "    <tr>\n",
       "      <th>2</th>\n",
       "      <td>Ron Dicker</td>\n",
       "      <td>2018-05-26</td>\n",
       "      <td>Hugh Grant Marries For The First Time At Age 57</td>\n",
       "      <td>https://www.huffingtonpost.com/entry/hugh-gran...</td>\n",
       "      <td>The actor and his longtime girlfriend Anna Ebe...</td>\n",
       "      <td>PERSON For The ORDINAL Time At DATE The actor ...</td>\n",
       "      <td>Hugh Grant Marries For The First Time At Age 5...</td>\n",
       "      <td>ENTERTAINMENT</td>\n",
       "    </tr>\n",
       "    <tr>\n",
       "      <th>3</th>\n",
       "      <td>Ron Dicker</td>\n",
       "      <td>2018-05-26</td>\n",
       "      <td>Jim Carrey Blasts 'Castrato' Adam Schiff And D...</td>\n",
       "      <td>https://www.huffingtonpost.com/entry/jim-carre...</td>\n",
       "      <td>The actor gives Dems an ass-kicking for not fi...</td>\n",
       "      <td>PERSON Blasts GPE PERSON And NORP In New Artwo...</td>\n",
       "      <td>Jim Carrey Blasts Castrato Adam Schiff And Dem...</td>\n",
       "      <td>ENTERTAINMENT</td>\n",
       "    </tr>\n",
       "    <tr>\n",
       "      <th>4</th>\n",
       "      <td>Ron Dicker</td>\n",
       "      <td>2018-05-26</td>\n",
       "      <td>Julianna Margulies Uses Donald Trump Poop Bags...</td>\n",
       "      <td>https://www.huffingtonpost.com/entry/julianna-...</td>\n",
       "      <td>The \"Dietland\" actress said using the bags is ...</td>\n",
       "      <td>PERSON Uses PERSON Poop Bags To Pick Up After ...</td>\n",
       "      <td>Julianna Margulies Uses Donald Trump Poop Bags...</td>\n",
       "      <td>ENTERTAINMENT</td>\n",
       "    </tr>\n",
       "  </tbody>\n",
       "</table>\n",
       "</div>"
      ]
     },
     "metadata": {},
     "execution_count": 87
    }
   ],
   "metadata": {}
  },
  {
   "cell_type": "code",
   "execution_count": null,
   "source": [],
   "outputs": [],
   "metadata": {}
  },
  {
   "cell_type": "code",
   "execution_count": 88,
   "source": [
    "for i in df['text'].head():\r\n",
    "    print(i)"
   ],
   "outputs": [
    {
     "output_type": "stream",
     "name": "stdout",
     "text": [
      "There Were 2 Mass Shootings In Texas Last Week But Only 1 On TV She left her husband He killed their children Just another day in America\n",
      "Will Smith Joins Diplo And Nicky Jam For The 2018 World Cup 's Official Song Of course it has a song\n",
      "Hugh Grant Marries For The First Time At Age 57 The actor and his longtime girlfriend Anna Eberstein tied the knot in a civil ceremony\n",
      "Jim Carrey Blasts Castrato Adam Schiff And Democrats In New Artwork The actor gives Dems an ass-kicking for not fighting hard enough against Donald Trump\n",
      "Julianna Margulies Uses Donald Trump Poop Bags To Pick Up After Her Dog The Dietland actress said using the bags is a really cathartic therapeutic moment\n"
     ]
    }
   ],
   "metadata": {}
  },
  {
   "cell_type": "code",
   "execution_count": 89,
   "source": [
    "\r\n",
    "for i in df['NERtext'].head():\r\n",
    "    print(i)"
   ],
   "outputs": [
    {
     "output_type": "stream",
     "name": "stdout",
     "text": [
      "There Were CARDINAL Mass Shootings In GPE DATE But DATE On TV She left her husband He killed their children Just another day in GPE\n",
      "Will Smith Joins Diplo And PERSON For WORK_OF_ART Of course it has a song\n",
      "PERSON For The ORDINAL Time At DATE The actor and his longtime girlfriend PERSON tied the knot in a civil ceremony\n",
      "PERSON Blasts GPE PERSON And NORP In New Artwork The actor gives NORP an ass-kicking for not fighting hard enough against PERSON\n",
      "PERSON Uses PERSON Poop Bags To Pick Up After Her Dog The NORP actress said using the bags is a really cathartic therapeutic moment\n"
     ]
    }
   ],
   "metadata": {}
  },
  {
   "cell_type": "code",
   "execution_count": 90,
   "source": [
    "###X_train, X_test, y_train, y_test  =train_test_split(df['text'], df['category'], test_size=0.2, random_state=1, stratify=df['category'])\r\n",
    "#X_train, X_val, y_train, y_val  = train_test_split(X_train, y_train, test_size=0.25, random_state=1, stratify=y_train)"
   ],
   "outputs": [],
   "metadata": {}
  },
  {
   "cell_type": "code",
   "execution_count": null,
   "source": [
    "class model():\r\n",
    "    def __init__(self, df, textColumn = 'text', addAuthor = False, SEED = 2):\r\n",
    "        self.SEED = SEED\r\n",
    "        self.df = df\r\n",
    "\r\n",
    "        #text column is whether we use NERtext or normal text column\r\n",
    "        self.textColumn = textColumn\r\n",
    "        self.le = LabelEncoder()\r\n",
    "        self.df['category_code'] = self.le.fit_transform(df['category'])\r\n",
    "\r\n",
    "        if addAuthor:\r\n",
    "            self.df[textColumn] = self.df[textColumn] +' ' + self.df['authors']\r\n",
    "    def lem(self, phrase, customized__stoppedWords):\r\n",
    "        if customized__stoppedWords:\r\n",
    "            stop_words_ = ['a', 'an', 'the', 'for', 'in', 'it', 'its', 'on', 'at', 'they', 'them',\r\n",
    "                  'their', 'theirs', 'that', 'what', 'which', 'has', 'have', 'had',\r\n",
    "                  'having', 'thus', 'do', 'no', 'nor', 'not', 'is', 'are', 'was',\r\n",
    "                  'were', 'be', 'been', 'being', 'did', 'in', 'out', 'both', 'each',\r\n",
    "                  'few', 'he', 'she', 'him', 'her', 'these', 'those', 'but', 'if',\r\n",
    "                  'of', 'after', 'before', 'up', 'down', 'over', 'under',\r\n",
    "                  'again', 'then', 'there', 'some', 'such', 'other',\r\n",
    "                  'only', 'same', 'so', 'than', 'and', 'to']\r\n",
    "        else:\r\n",
    "            stop_words_ = list(set(stopwords.words('english')))\r\n",
    "        wnl=WordNetLemmatizer()\r\n",
    "        lemmed=[]\r\n",
    "        for i in word_tokenize(phrase):\r\n",
    "            w1=wnl.lemmatize(i, 'v')\r\n",
    "            w2=wnl.lemmatize(w1, 'a')\r\n",
    "            w3=wnl.lemmatize(w2, 'n')\r\n",
    "            if i not in (stop_words_):\r\n",
    "                lemmed.append(w3)\r\n",
    "        return \" \".join(lemmed)\r\n",
    "\r\n",
    "\r\n",
    "        #return \" \".join([wn.lemmatize(words.lower(), pos=\"v\") for words in word_tokenize(phrase) if (words not in (stop_words_))])\r\n",
    "    def add_sentiment(self):\r\n",
    "        Polarity=[]\r\n",
    "        Subjectivity=[]\r\n",
    "        for i in range(len(self.df[self.textColumn])):\r\n",
    "            x = TextBlob(\" \".join(word_tokenize(self.df[self.textColumn][i]))).sentiment\r\n",
    "            Polarity.append(x[0])\r\n",
    "            Subjectivity.append(x[1])\r\n",
    "        self.df['Polarity'] = Polarity\r\n",
    "        self.df['Subjectivity'] = Subjectivity\r\n",
    "    def add_wordCount(self):\r\n",
    "        self.df['countLen']  = [len(word_tokenize(i)) for i in df[self.textColumn]]\r\n",
    "\r\n",
    "    def fit(self, customized__stoppedWords= False, add_sentiment = False, add_wordLen = False):\r\n",
    "        self.df[self.textColumn] = self.df[self.textColumn].apply(lambda x: self.lem(x, customized__stoppedWords))\r\n",
    "        print('-----------Sample Text---------')\r\n",
    "        for i in self.df[self.textColumn].head(3):\r\n",
    "            print(i)\r\n",
    "        self.add_sentiment()\r\n",
    "        self.add_wordCount()\r\n",
    "\r\n",
    "        self.X_train, self.X_test, self.y_train, self.y_test  =train_test_split(self.df, self.df['category_code'], test_size=0.2, random_state=1, stratify=self.df['category_code'])\r\n",
    "        self.X_train, self.X_val, self.y_train, self.y_val  = train_test_split(self.X_train, self.y_train, test_size=0.25, random_state=1, stratify=self.y_train)\r\n",
    "        \r\n",
    "        \r\n",
    "        vect_word = TfidfVectorizer(max_features=60000, lowercase=False, analyzer='word',tokenizer=word_tokenize,ngram_range=(1,3),dtype=np.float32)\r\n",
    "        self.tr_vect = vect_word.fit_transform(self.X_train[self.textColumn])\r\n",
    "        self.vl_vect = vect_word.transform(self.X_val[self.textColumn])\r\n",
    "        \r\n",
    "        print(self.tr_vect.shape[1] , 'total Width of the train vector' )\r\n",
    "        if add_sentiment: \r\n",
    "            self.tr_vect = hstack((self.tr_vect, self.X_train[['Polarity','Subjectivity']].values),format='csr')\r\n",
    "            self.vl_vect = hstack((self.vl_vect, self.X_val[['Polarity','Subjectivity']].values),format='csr')\r\n",
    "        if add_wordLen: \r\n",
    "            self.tr_vect = hstack((self.tr_vect, self.X_train[['countLen']].values),format='csr')\r\n",
    "            self.vl_vect = hstack((self.vl_vect, self.X_val[['countLen']].values),format='csr')\r\n",
    "        print(self.tr_vect.shape[1] , 'total Width of the train vector' )\r\n",
    "        \r\n",
    "        \r\n",
    "        #test_vect = vect_word.transform(X_test)\r\n",
    "        \r\n",
    "        \r\n",
    "\r\n",
    "\r\n",
    "\r\n",
    "\r\n",
    "\r\n",
    "\r\n",
    "\r\n",
    "        #logistic regression\r\n",
    "        print('Fitting LGR-------')\r\n",
    "        t = time.process_time()\r\n",
    "        self.lgr = LogisticRegression(solver='saga',multi_class='multinomial', max_iter=10000, C=1,verbose = True, n_jobs = -1, random_state = self.SEED).fit(self.tr_vect, self.y_train)\r\n",
    "        self.lgr_y_pred = self.lgr.predict(self.vl_vect)\r\n",
    "        elapsed_time = time.process_time() - t\r\n",
    "        print('total elappsed time: ', elapsed_time)\r\n",
    "        print('LGR accuracy: ', (self.lgr_y_pred == self.y_val).sum()/len(self.y_val))\r\n",
    "\r\n",
    "        #linear SVC\r\n",
    "        t = time.process_time()\r\n",
    "        print('Fitting LinearSVC-------')\r\n",
    "        self.svc = LinearSVC(C=1, class_weight='balanced', multi_class='ovr',verbose = True, random_state = self.SEED).fit(self.tr_vect, self.y_train)\r\n",
    "        self.svc_y_pred = self.svc.predict(self.vl_vect)\r\n",
    "        print('total elappsed time: ', elapsed_time)\r\n",
    "        print('LinearSVC: ', (self.svc_y_pred == self.y_val).sum()/len(self.y_val))"
   ],
   "outputs": [],
   "metadata": {}
  },
  {
   "cell_type": "code",
   "execution_count": 10,
   "source": [
    "SEED = 2\r\n",
    "textColumnToUse = 'NERtext'\r\n",
    "addAuthor = True\r\n",
    "nermodel = model(df, textColumnToUse, addAuthor, SEED)\r\n",
    "nermodel.fit()"
   ],
   "outputs": [
    {
     "output_type": "stream",
     "name": "stdout",
     "text": [
      "-----------Sample Text---------\n",
      "there be cardinal mass shoot in gpe date but date on tv she leave husband he kill children just another day gpe melissa jeltsen\n",
      "will smith join diplo and person for work_of_art of course song andy mcdonald\n",
      "person for the ordinal time at date the actor longtime girlfriend person tie knot civil ceremony ron dicker\n"
     ]
    },
    {
     "output_type": "stream",
     "name": "stderr",
     "text": [
      "[Parallel(n_jobs=-1)]: Using backend ThreadingBackend with 4 concurrent workers.\n"
     ]
    },
    {
     "output_type": "stream",
     "name": "stdout",
     "text": [
      "convergence after 22 epochs took 34 seconds\n",
      "LGR accuracy: "
     ]
    },
    {
     "output_type": "stream",
     "name": "stderr",
     "text": [
      "[Parallel(n_jobs=-1)]: Done   1 out of   1 | elapsed:   34.0s finished\n"
     ]
    },
    {
     "output_type": "stream",
     "name": "stdout",
     "text": [
      " 0.7082721366159668\n",
      "[LibLinear]LinearSVC:  0.7256229618381419\n"
     ]
    }
   ],
   "metadata": {}
  },
  {
   "cell_type": "code",
   "execution_count": 11,
   "source": [
    "textColumnToUse = 'text'\r\n",
    "model = model(df, textColumnToUse, addAuthor, SEED)\r\n",
    "model.fit()"
   ],
   "outputs": [
    {
     "output_type": "stream",
     "name": "stdout",
     "text": [
      "-----------Sample Text---------\n",
      "there be 2 mass shoot in texas last week but only 1 on tv she leave husband he kill children just another day america melissa jeltsen\n",
      "will smith join diplo and nicky jam for the 2018 world cup 's official song of course song andy mcdonald\n",
      "hugh grant marry for the first time at age 57 the actor longtime girlfriend anna eberstein tie knot civil ceremony ron dicker\n"
     ]
    },
    {
     "output_type": "stream",
     "name": "stderr",
     "text": [
      "[Parallel(n_jobs=-1)]: Using backend ThreadingBackend with 4 concurrent workers.\n"
     ]
    },
    {
     "output_type": "stream",
     "name": "stdout",
     "text": [
      "convergence after 19 epochs took 29 seconds\n",
      "LGR accuracy:  0.7315974210251176\n"
     ]
    },
    {
     "output_type": "stream",
     "name": "stderr",
     "text": [
      "[Parallel(n_jobs=-1)]: Done   1 out of   1 | elapsed:   29.1s finished\n"
     ]
    },
    {
     "output_type": "stream",
     "name": "stdout",
     "text": [
      "[LibLinear]LinearSVC:  0.7522839859600209\n"
     ]
    }
   ],
   "metadata": {}
  },
  {
   "cell_type": "code",
   "execution_count": 19,
   "source": [
    "SEED = 2\r\n",
    "textColumnToUse = 'text'\r\n",
    "addAuthor = True\r\n",
    "nermodel = model(df, textColumnToUse, addAuthor, SEED)\r\n",
    "nermodel.fit(customized__stoppedWords= True)"
   ],
   "outputs": [
    {
     "output_type": "stream",
     "name": "stdout",
     "text": [
      "-----------Sample Text---------\n",
      "2 mass shoot texas last week 1 tv leave husband kill child just another day america melissa jeltsen Melissa Jeltsen\n",
      "will smith join diplo nicky jam 2018 world cup 's official song course song andy mcdonald Andy McDonald\n",
      "hugh grant marry first time age 57 actor longtime girlfriend anna eberstein tie knot civil ceremony ron dicker Ron Dicker\n"
     ]
    },
    {
     "output_type": "stream",
     "name": "stderr",
     "text": [
      "[Parallel(n_jobs=-1)]: Using backend ThreadingBackend with 4 concurrent workers.\n"
     ]
    },
    {
     "output_type": "stream",
     "name": "stdout",
     "text": [
      "convergence after 21 epochs took 29 seconds\n",
      "LGR accuracy:  0.7399118767269921\n"
     ]
    },
    {
     "output_type": "stream",
     "name": "stderr",
     "text": [
      "[Parallel(n_jobs=-1)]: Done   1 out of   1 | elapsed:   28.7s finished\n"
     ]
    },
    {
     "output_type": "stream",
     "name": "stdout",
     "text": [
      "[LibLinear]LinearSVC:  0.755993129371935\n"
     ]
    }
   ],
   "metadata": {}
  },
  {
   "cell_type": "code",
   "execution_count": 22,
   "source": [
    "SEED = 2\r\n",
    "textColumnToUse = 'text'\r\n",
    "addAuthor = True\r\n",
    "model = model(df, textColumnToUse, addAuthor, SEED)\r\n",
    "model.fit(customized__stoppedWords= True)"
   ],
   "outputs": [
    {
     "output_type": "stream",
     "name": "stdout",
     "text": [
      "-----------Sample Text---------\n",
      "2 mass shoot texas last week 1 tv leave husband kill child just another day america melissa jeltsen Melissa Jeltsen Melissa Jeltsen Melissa Jeltsen\n",
      "will smith join diplo nicky jam 2018 world cup 's official song course song andy mcdonald Andy McDonald Andy McDonald Andy McDonald\n",
      "hugh grant marry first time age 57 actor longtime girlfriend anna eberstein tie knot civil ceremony ron dicker Ron Dicker Ron Dicker Ron Dicker\n"
     ]
    },
    {
     "output_type": "stream",
     "name": "stderr",
     "text": [
      "[Parallel(n_jobs=-1)]: Using backend ThreadingBackend with 4 concurrent workers.\n"
     ]
    },
    {
     "output_type": "stream",
     "name": "stdout",
     "text": [
      "convergence after 21 epochs took 32 seconds\n",
      "LGR accuracy:  0.72691742799532\n"
     ]
    },
    {
     "output_type": "stream",
     "name": "stderr",
     "text": [
      "[Parallel(n_jobs=-1)]: Done   1 out of   1 | elapsed:   32.5s finished\n"
     ]
    },
    {
     "output_type": "stream",
     "name": "stdout",
     "text": [
      "[LibLinear]LinearSVC:  0.7509895198028429\n"
     ]
    }
   ],
   "metadata": {}
  },
  {
   "cell_type": "code",
   "execution_count": 20,
   "source": [
    "SEED = 2\r\n",
    "textColumnToUse = 'NERtext'\r\n",
    "addAuthor = True\r\n",
    "nermodel = model(df, textColumnToUse, addAuthor, SEED)\r\n",
    "nermodel.fit(customized__stoppedWords= True)"
   ],
   "outputs": [
    {
     "output_type": "stream",
     "name": "stdout",
     "text": [
      "-----------Sample Text---------\n",
      "There Were CARDINAL Mass Shootings In GPE DATE But DATE On TV She leave husband He kill child Just another day GPE Melissa Jeltsen\n",
      "Will Smith Joins Diplo And PERSON For WORK_OF_ART Of course song Andy McDonald\n",
      "PERSON For The ORDINAL Time At DATE The actor his longtime girlfriend PERSON tie knot civil ceremony Ron Dicker\n"
     ]
    },
    {
     "output_type": "stream",
     "name": "stderr",
     "text": [
      "[Parallel(n_jobs=-1)]: Using backend ThreadingBackend with 4 concurrent workers.\n"
     ]
    },
    {
     "output_type": "stream",
     "name": "stdout",
     "text": [
      "convergence after 22 epochs took 29 seconds\n",
      "LGR accuracy:  0.6973687485997361\n"
     ]
    },
    {
     "output_type": "stream",
     "name": "stderr",
     "text": [
      "[Parallel(n_jobs=-1)]: Done   1 out of   1 | elapsed:   29.5s finished\n"
     ]
    },
    {
     "output_type": "stream",
     "name": "stdout",
     "text": [
      "[LibLinear]LinearSVC:  0.7229095616240572\n"
     ]
    }
   ],
   "metadata": {}
  },
  {
   "cell_type": "code",
   "execution_count": 92,
   "source": [
    "SEED = 2\r\n",
    "textColumnToUse = 'text'\r\n",
    "addAuthor = True\r\n",
    "nermodel = model(df, textColumnToUse, addAuthor, SEED)\r\n",
    "nermodel.fit(customized__stoppedWords= True,add_sentiment = True, add_wordLen = True)"
   ],
   "outputs": [
    {
     "output_type": "stream",
     "name": "stdout",
     "text": [
      "-----------Sample Text---------\n",
      "There Were 2 Mass Shootings In Texas Last Week But Only 1 On TV She leave husband He kill child Just another day America Melissa Jeltsen\n",
      "Will Smith Joins Diplo And Nicky Jam For The 2018 World Cup 's Official Song Of course song Andy McDonald\n",
      "Hugh Grant Marries For The First Time At Age 57 The actor his longtime girlfriend Anna Eberstein tie knot civil ceremony Ron Dicker\n",
      "60000 total Width of the train vector\n",
      "60003 total Width of the train vector\n",
      "Fitting LGR-------\n"
     ]
    },
    {
     "output_type": "stream",
     "name": "stderr",
     "text": [
      "[Parallel(n_jobs=-1)]: Using backend ThreadingBackend with 4 concurrent workers.\n"
     ]
    }
   ],
   "metadata": {}
  },
  {
   "cell_type": "code",
   "execution_count": null,
   "source": [
    "#Test\r\n",
    "SEED = 2\r\n",
    "textColumnToUse = 'text'\r\n",
    "addAuthor = True\r\n",
    "nermodel = model(df, textColumnToUse, addAuthor, SEED)\r\n",
    "nermodel.fit(customized__stoppedWords= True,add_sentiment = True, add_wordLen = True)"
   ],
   "outputs": [],
   "metadata": {}
  },
  {
   "cell_type": "code",
   "execution_count": null,
   "source": [
    "SEED = 2\r\n",
    "textColumnToUse = 'NERtext'\r\n",
    "addAuthor = True\r\n",
    "nermodel = model(df, textColumnToUse, addAuthor, SEED)\r\n",
    "nermodel.fit(customized__stoppedWords= True,add_sentiment = True, add_wordLen = True)"
   ],
   "outputs": [],
   "metadata": {}
  },
  {
   "cell_type": "code",
   "execution_count": null,
   "source": [],
   "outputs": [],
   "metadata": {}
  },
  {
   "cell_type": "code",
   "execution_count": null,
   "source": [],
   "outputs": [],
   "metadata": {}
  },
  {
   "cell_type": "code",
   "execution_count": null,
   "source": [],
   "outputs": [],
   "metadata": {}
  },
  {
   "cell_type": "code",
   "execution_count": 65,
   "source": [
    "SEED = 2\r\n",
    "textColumnToUse = 'NERtext'\r\n",
    "addAuthor = True\r\n",
    "nermodel = model(df, textColumnToUse, addAuthor, SEED)\r\n",
    "nermodel.fit(customized__stoppedWords= True,add_sentiment = True, add_wordLen = True)"
   ],
   "outputs": [
    {
     "output_type": "execute_result",
     "data": {
      "text/plain": [
       "[26, 24, 26, 28, 28]"
      ]
     },
     "metadata": {},
     "execution_count": 65
    }
   ],
   "metadata": {}
  },
  {
   "cell_type": "code",
   "execution_count": null,
   "source": [],
   "outputs": [],
   "metadata": {}
  },
  {
   "cell_type": "code",
   "execution_count": 53,
   "source": [
    "##################################################Results######################################\r\n",
    "# without author NER LGR accuracy:  0.5542804510716686 LinearSVC:  0.554429812551343, BERT accuracy: 0.6484048366546631\r\n",
    "# without author LGR accuracy:  0.6009310198899703 LinearSVC:  0.6112618555674492 BERT accuracy: 0.6991676092147827\r\n",
    "\r\n",
    "# with Author NER LGR accuracy:  0.7082721366159668 LinearSVC:   0.7256229618381419, BERT: 0.7828295230865479\r\n",
    "# with Author LGR accuracy:  0.7315974210251176 LinearSVC:  0.7522839859600209, BERT: 0.8054925203323364\r\n",
    "\r\n",
    "#---------tailored stop words--------------------\r\n",
    "# with Author NER LGR aacurac 0.6973687485997361, LinearSVC:  0.7229095616240572\r\n",
    "# with Author LGR aacuracy: 0.7399118767269921 LinearSVC:  0.755993129371935\r\n",
    "\r\n"
   ],
   "outputs": [],
   "metadata": {}
  },
  {
   "cell_type": "code",
   "execution_count": null,
   "source": [],
   "outputs": [],
   "metadata": {}
  },
  {
   "cell_type": "code",
   "execution_count": null,
   "source": [],
   "outputs": [],
   "metadata": {}
  },
  {
   "cell_type": "code",
   "execution_count": null,
   "source": [],
   "outputs": [],
   "metadata": {}
  },
  {
   "cell_type": "code",
   "execution_count": null,
   "source": [],
   "outputs": [],
   "metadata": {}
  },
  {
   "cell_type": "code",
   "execution_count": null,
   "source": [],
   "outputs": [],
   "metadata": {}
  },
  {
   "cell_type": "code",
   "execution_count": null,
   "source": [],
   "outputs": [],
   "metadata": {}
  },
  {
   "cell_type": "code",
   "execution_count": null,
   "source": [],
   "outputs": [],
   "metadata": {}
  },
  {
   "cell_type": "code",
   "execution_count": null,
   "source": [],
   "outputs": [],
   "metadata": {}
  },
  {
   "cell_type": "code",
   "execution_count": null,
   "source": [],
   "outputs": [],
   "metadata": {}
  },
  {
   "cell_type": "code",
   "execution_count": null,
   "source": [],
   "outputs": [],
   "metadata": {}
  },
  {
   "cell_type": "code",
   "execution_count": null,
   "source": [],
   "outputs": [],
   "metadata": {}
  },
  {
   "cell_type": "code",
   "execution_count": 12,
   "source": [
    "df.groupby(by='category').size().sort_values(ascending = False)"
   ],
   "outputs": [
    {
     "output_type": "execute_result",
     "data": {
      "text/plain": [
       "category\n",
       "POLITICS          32739\n",
       "WELLNESS          17827\n",
       "ENTERTAINMENT     16058\n",
       "TRAVEL             9887\n",
       "STYLE & BEAUTY     9649\n",
       "PARENTING          8677\n",
       "HEALTHY LIVING     6694\n",
       "QUEER VOICES       6314\n",
       "FOOD & DRINK       6226\n",
       "BUSINESS           5937\n",
       "COMEDY             5175\n",
       "SPORTS             4884\n",
       "BLACK VOICES       4528\n",
       "HOME & LIVING      4195\n",
       "PARENTS            3955\n",
       "THE WORLDPOST      3664\n",
       "WEDDINGS           3651\n",
       "WOMEN              3490\n",
       "IMPACT             3459\n",
       "DIVORCE            3426\n",
       "CRIME              3405\n",
       "MEDIA              2815\n",
       "WEIRD NEWS         2670\n",
       "GREEN              2622\n",
       "WORLDPOST          2579\n",
       "RELIGION           2556\n",
       "STYLE              2254\n",
       "SCIENCE            2178\n",
       "WORLD NEWS         2177\n",
       "TASTE              2096\n",
       "TECH               2082\n",
       "MONEY              1707\n",
       "ARTS               1509\n",
       "FIFTY              1401\n",
       "GOOD NEWS          1398\n",
       "ARTS & CULTURE     1339\n",
       "ENVIRONMENT        1323\n",
       "COLLEGE            1144\n",
       "LATINO VOICES      1129\n",
       "CULTURE & ARTS     1030\n",
       "EDUCATION          1004\n",
       "dtype: int64"
      ]
     },
     "metadata": {},
     "execution_count": 12
    }
   ],
   "metadata": {}
  },
  {
   "cell_type": "code",
   "execution_count": 46,
   "source": [
    "test_features = ['TASTE', 'WEDDINGS']\r\n",
    "test_df = df[df['category'].isin(test_features) ]"
   ],
   "outputs": [],
   "metadata": {}
  },
  {
   "cell_type": "code",
   "execution_count": 47,
   "source": [
    "for i in test_df.head()['text']:\r\n",
    "    print(i)"
   ],
   "outputs": [
    {
     "output_type": "stream",
     "name": "stdout",
     "text": [
      "It 's Weird That American Restaurants Serve Ice Water In Winter But why do we even have ice in our drinks in the first place\n",
      "Pineapple Casserole The Southern Dish That 's A Paradox Of Flavors It 's got pineapple cheddar and a whole lot of butter\n",
      "How To Actually Get A Bartender 's Attention Plus other things they wish you knew\n",
      "Diet Coke 's Millennial-Inspired Makeover Leaves People Befuddled It 's not like a regular soda it 's a cool soda\n",
      "We Tested The New Tearless Onions To See If They Really Work Put away your goggles people\n"
     ]
    }
   ],
   "metadata": {}
  },
  {
   "cell_type": "code",
   "execution_count": 48,
   "source": [
    "for i in test_df.head()['NERtext']:\r\n",
    "    print(i)"
   ],
   "outputs": [
    {
     "output_type": "stream",
     "name": "stdout",
     "text": [
      "It 's Weird That American Restaurants Serve Ice Water In Winter But why do we even have ice in our drinks in the ORDINAL place\n",
      "Pineapple Casserole The Southern Dish That 's A Paradox Of Flavors It 's got pineapple cheddar and a whole lot of butter\n",
      "How To Actually Get A Bartender 's Attention Plus other things they wish you knew\n",
      "PERSON Millennial - Inspired Makeover Leaves People Befuddled It 's not like a regular soda it 's a cool soda\n",
      "We Tested The New Tearless Onions To See If They Really Work Put away your goggles people\n"
     ]
    }
   ],
   "metadata": {}
  },
  {
   "cell_type": "code",
   "execution_count": 49,
   "source": [
    "SEED = 2\r\n",
    "textColumnToUse = 'NERtext'\r\n",
    "addAuthor = True\r\n",
    "nermodel = model(test_df, textColumnToUse, addAuthor, SEED)\r\n",
    "nermodel.fit()"
   ],
   "outputs": [
    {
     "output_type": "stream",
     "name": "stdout",
     "text": [
      "-----------Sample Text---------\n",
      "it 's weird that american restaurants serve ice water in winter but even ice drink ordinal place todd van luling\n",
      "pineapple casserole the southern dish that 's a paradox of flavor it 's get pineapple cheddar whole lot butter kristen aiken\n",
      "how to actually get a bartender 's attention plus things wish know taylor pittman\n"
     ]
    },
    {
     "output_type": "stream",
     "name": "stderr",
     "text": [
      "[Parallel(n_jobs=-1)]: Using backend ThreadingBackend with 4 concurrent workers.\n",
      "[Parallel(n_jobs=-1)]: Done   1 out of   1 | elapsed:    0.0s finished\n"
     ]
    },
    {
     "output_type": "stream",
     "name": "stdout",
     "text": [
      "convergence after 20 epochs took 0 seconds\n",
      "LGR accuracy:  0.9834782608695652\n",
      "[LibLinear]LinearSVC:  0.9904347826086957\n"
     ]
    }
   ],
   "metadata": {}
  },
  {
   "cell_type": "code",
   "execution_count": 50,
   "source": [
    "SEED = 2\r\n",
    "textColumnToUse = 'text'\r\n",
    "addAuthor = True\r\n",
    "nermodel = model(test_df, textColumnToUse, addAuthor, SEED)\r\n",
    "nermodel.fit()"
   ],
   "outputs": [
    {
     "output_type": "stream",
     "name": "stdout",
     "text": [
      "-----------Sample Text---------\n",
      "it 's weird that american restaurants serve ice water in winter but even ice drink first place todd van luling\n",
      "pineapple casserole the southern dish that 's a paradox of flavor it 's get pineapple cheddar whole lot butter kristen aiken\n",
      "how to actually get a bartender 's attention plus things wish know taylor pittman\n"
     ]
    },
    {
     "output_type": "stream",
     "name": "stderr",
     "text": [
      "[Parallel(n_jobs=-1)]: Using backend ThreadingBackend with 4 concurrent workers.\n",
      "[Parallel(n_jobs=-1)]: Done   1 out of   1 | elapsed:    0.0s finished\n"
     ]
    },
    {
     "output_type": "stream",
     "name": "stdout",
     "text": [
      "convergence after 21 epochs took 0 seconds\n",
      "LGR accuracy:  0.9904347826086957\n",
      "[LibLinear]LinearSVC:  0.9947826086956522\n"
     ]
    }
   ],
   "metadata": {}
  },
  {
   "cell_type": "code",
   "execution_count": null,
   "source": [],
   "outputs": [],
   "metadata": {}
  },
  {
   "cell_type": "code",
   "execution_count": null,
   "source": [],
   "outputs": [],
   "metadata": {}
  },
  {
   "cell_type": "code",
   "execution_count": null,
   "source": [],
   "outputs": [],
   "metadata": {}
  },
  {
   "cell_type": "code",
   "execution_count": null,
   "source": [],
   "outputs": [],
   "metadata": {}
  },
  {
   "cell_type": "code",
   "execution_count": null,
   "source": [],
   "outputs": [],
   "metadata": {}
  },
  {
   "cell_type": "code",
   "execution_count": 60,
   "source": [
    "stop_words_ = set(stopwords.words('english'))\r\n",
    "wn = WordNetLemmatizer()\r\n",
    "def lem(phrase):\r\n",
    "        return \" \".join([wn.lemmatize(words.lower(), pos=\"v\") for words in word_tokenize(phrase) if (words not in stop_words_)])"
   ],
   "outputs": [],
   "metadata": {}
  },
  {
   "cell_type": "code",
   "execution_count": 61,
   "source": [
    "df_lem = df.copy()"
   ],
   "outputs": [],
   "metadata": {}
  },
  {
   "cell_type": "code",
   "execution_count": 62,
   "source": [
    "df_lem['text'] = df['text'].apply(lambda x: lem(x))"
   ],
   "outputs": [],
   "metadata": {}
  },
  {
   "cell_type": "code",
   "execution_count": 63,
   "source": [
    "fulltext = ' '.join(df_lem['text'])"
   ],
   "outputs": [],
   "metadata": {}
  },
  {
   "cell_type": "code",
   "execution_count": 64,
   "source": [
    "wordFreq = nltk.FreqDist(word_tokenize(fulltext))"
   ],
   "outputs": [],
   "metadata": {}
  },
  {
   "cell_type": "code",
   "execution_count": 65,
   "source": [
    "wordFreq"
   ],
   "outputs": [
    {
     "output_type": "execute_result",
     "data": {
      "text/plain": [
       "FreqDist({'the': 82658, \"'s\": 79341, 'i': 46365, 'be': 40582, 'to': 40318, 'a': 31798, 'in': 30472, \"n't\": 24366, 'of': 23702, 'for': 21983, ...})"
      ]
     },
     "metadata": {},
     "execution_count": 65
    }
   ],
   "metadata": {}
  },
  {
   "cell_type": "code",
   "execution_count": 72,
   "source": [
    "rareWords = len([k for k, v in sorted(wordFreq.items(), key=lambda item: item[1]) if v ==1])"
   ],
   "outputs": [],
   "metadata": {}
  },
  {
   "cell_type": "code",
   "execution_count": 76,
   "source": [
    "textColumnToUse = 'text'\r\n",
    "model = model(df, textColumnToUse, addAuthor,rareWords)\r\n",
    "model.fit()"
   ],
   "outputs": [
    {
     "output_type": "stream",
     "name": "stdout",
     "text": [
      "-----------Sample Text---------\n",
      "there be 2 mass shoot in texas last week but only 1 on tv she leave husband he kill children just another day america melissa jeltsen melissa jeltsen\n",
      "will smith join diplo and nicky jam for the 2018 world cup 's official song of course song andy mcdonald andy mcdonald\n",
      "hugh grant marry for the first time at age 57 the actor longtime girlfriend anna eberstein tie knot civil ceremony ron dicker ron dicker\n"
     ]
    },
    {
     "output_type": "stream",
     "name": "stderr",
     "text": [
      "[Parallel(n_jobs=-1)]: Using backend ThreadingBackend with 4 concurrent workers.\n"
     ]
    },
    {
     "output_type": "stream",
     "name": "stdout",
     "text": [
      "convergence after 21 epochs took 27 seconds\n",
      "LGR accuracy:  0.7376216673719848\n"
     ]
    },
    {
     "output_type": "stream",
     "name": "stderr",
     "text": [
      "[Parallel(n_jobs=-1)]: Done   1 out of   1 | elapsed:   27.6s finished\n"
     ]
    },
    {
     "output_type": "stream",
     "name": "stdout",
     "text": [
      "[LibLinear]LinearSVC:  0.7584575937865624\n"
     ]
    }
   ],
   "metadata": {}
  },
  {
   "cell_type": "code",
   "execution_count": null,
   "source": [],
   "outputs": [],
   "metadata": {}
  },
  {
   "cell_type": "code",
   "execution_count": null,
   "source": [],
   "outputs": [],
   "metadata": {}
  },
  {
   "cell_type": "code",
   "execution_count": null,
   "source": [],
   "outputs": [],
   "metadata": {}
  },
  {
   "cell_type": "code",
   "execution_count": null,
   "source": [],
   "outputs": [],
   "metadata": {}
  },
  {
   "cell_type": "code",
   "execution_count": null,
   "source": [],
   "outputs": [],
   "metadata": {}
  },
  {
   "cell_type": "code",
   "execution_count": null,
   "source": [],
   "outputs": [],
   "metadata": {}
  },
  {
   "cell_type": "code",
   "execution_count": null,
   "source": [],
   "outputs": [],
   "metadata": {}
  },
  {
   "cell_type": "code",
   "execution_count": null,
   "source": [],
   "outputs": [],
   "metadata": {}
  }
 ],
 "metadata": {
  "orig_nbformat": 4,
  "language_info": {
   "name": "python",
   "version": "3.7.3",
   "mimetype": "text/x-python",
   "codemirror_mode": {
    "name": "ipython",
    "version": 3
   },
   "pygments_lexer": "ipython3",
   "nbconvert_exporter": "python",
   "file_extension": ".py"
  },
  "kernelspec": {
   "name": "python3",
   "display_name": "Python 3.7.3 64-bit ('base': conda)"
  },
  "interpreter": {
   "hash": "b3ba2566441a7c06988d0923437866b63cedc61552a5af99d1f4fb67d367b25f"
  }
 },
 "nbformat": 4,
 "nbformat_minor": 2
}